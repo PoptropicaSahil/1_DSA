{
 "cells": [
  {
   "cell_type": "markdown",
   "metadata": {},
   "source": [
    "# Search and sort"
   ]
  },
  {
   "cell_type": "markdown",
   "metadata": {},
   "source": [
    "Linear search"
   ]
  },
  {
   "cell_type": "code",
   "execution_count": 3,
   "metadata": {},
   "outputs": [
    {
     "data": {
      "text/plain": [
       "5"
      ]
     },
     "execution_count": 3,
     "metadata": {},
     "output_type": "execute_result"
    }
   ],
   "source": [
    "def linear_search(arr, element):\n",
    "    for idx, val in enumerate(arr):\n",
    "        if val == element:\n",
    "            return idx\n",
    "    return -1\n",
    "\n",
    "linear_search([1, 2, 3, 4, 11, 5, 6, 7, 8, 9, 10], 5)"
   ]
  },
  {
   "cell_type": "markdown",
   "metadata": {},
   "source": [
    "binary search"
   ]
  },
  {
   "cell_type": "code",
   "execution_count": 6,
   "metadata": {},
   "outputs": [
    {
     "data": {
      "text/plain": [
       "5"
      ]
     },
     "execution_count": 6,
     "metadata": {},
     "output_type": "execute_result"
    }
   ],
   "source": [
    "def binary_search(arr, element):\n",
    "    low_idx = 0\n",
    "    high_idx = len(arr) - 1\n",
    "\n",
    "    while low_idx <= high_idx:\n",
    "        mid_idx = (low_idx + high_idx) // 2\n",
    "\n",
    "        if arr[mid_idx] == element:\n",
    "            return mid_idx\n",
    "        elif arr[mid_idx] < element:\n",
    "            low_idx = mid_idx\n",
    "        else:\n",
    "            high_idx = mid_idx\n",
    "        \n",
    "    return -1\n",
    "\n",
    "binary_search([1, 2, 3, 4, 11, 5, 6, 7, 8, 9, 10], 5)"
   ]
  },
  {
   "cell_type": "code",
   "execution_count": 20,
   "metadata": {},
   "outputs": [
    {
     "name": "stdout",
     "output_type": "stream",
     "text": [
      "entered condition: low_idx = 0, high_idx = 13, mid_idx = 6, element = 3\n",
      "cond1 ---- element < arr[mid_idx] = 3 < 6\n",
      "entered condition: low_idx = 0, high_idx = 6, mid_idx = 3, element = 3\n",
      "cond3 ----\n"
     ]
    },
    {
     "data": {
      "text/plain": [
       "3"
      ]
     },
     "execution_count": 20,
     "metadata": {},
     "output_type": "execute_result"
    }
   ],
   "source": [
    "def binary_search_recursion(arr, low_idx, high_idx, element):\n",
    "    \n",
    "    if low_idx <= high_idx:\n",
    "        mid_idx = (low_idx + high_idx) // 2\n",
    "        print(\n",
    "            f\"entered condition: low_idx = {low_idx}, high_idx = {high_idx}, mid_idx = {mid_idx}, element = {element}\"\n",
    "        )\n",
    "\n",
    "        if  element < arr[mid_idx]:\n",
    "            print(f'cond1 ---- element < arr[mid_idx] = {element} < {arr[mid_idx]}')\n",
    "            # return mid_idx\n",
    "            return binary_search_recursion(arr, low_idx=low_idx, high_idx=mid_idx, element=element)\n",
    "        elif arr[mid_idx] < element:\n",
    "            print(f'cond2 -> arr[mid_idx] < element = {arr[mid_idx]} < {element}')\n",
    "            return binary_search_recursion(arr, low_idx=mid_idx, high_idx=high_idx, element=element)\n",
    "            # low_idx = mid_idx\n",
    "        else:\n",
    "            print('cond3 ----')\n",
    "            return mid_idx\n",
    "\n",
    "    else:\n",
    "        return -1\n",
    "\n",
    "arr = [1, 2, 2.2, 3, 4, 5, 6, 7, 8, 9, 10, 100, 100000]\n",
    "result = binary_search_recursion(arr = arr, low_idx = 0, high_idx = len(arr),element=3)\n",
    "result\n"
   ]
  },
  {
   "cell_type": "markdown",
   "metadata": {},
   "source": [
    "bubble sort"
   ]
  },
  {
   "cell_type": "code",
   "execution_count": 34,
   "metadata": {},
   "outputs": [
    {
     "data": {
      "text/plain": [
       "([1, 2, 2, 3, 2, 4, 5, 7, 8, 9, 10, 11, 61], 42)"
      ]
     },
     "execution_count": 34,
     "metadata": {},
     "output_type": "execute_result"
    }
   ],
   "source": [
    "def bubble_sort(arr):\n",
    "    \n",
    "    iterations = 0\n",
    "    n = len(arr)\n",
    "    for i in range(n):\n",
    "        for j in range(i, n-i-1):\n",
    "            iterations += 1\n",
    "            if arr[j] > arr[j+1]:\n",
    "                arr[j], arr[j+1] = arr[j+1], arr[j]\n",
    "    return arr, iterations\n",
    " \n",
    "bubble_sort([1, 2, 3, 4, 11, 2, 5, 61, 2, 7, 8, 9, 10])"
   ]
  },
  {
   "cell_type": "markdown",
   "metadata": {},
   "source": [
    "insertion sort"
   ]
  },
  {
   "cell_type": "code",
   "execution_count": 36,
   "metadata": {},
   "outputs": [
    {
     "name": "stdout",
     "output_type": "stream",
     "text": [
      "for loop: i = 1, j = 1\n",
      "for loop: i = 2, j = 2\n",
      "for loop: i = 3, j = 3\n",
      "for loop: i = 4, j = 4\n",
      "for loop: i = 5, j = 5\n",
      "\t while loop: i = 5, j = 5, arr = [1, 2, 3, 4, 11, 2, 5, 61, 2, 7, 8, 9, 10]\n",
      "\t while loop updation: i = 5, j = 4, arr = [1, 2, 3, 4, 2, 11, 5, 61, 2, 7, 8, 9, 10]\n",
      "\t while loop: i = 5, j = 4, arr = [1, 2, 3, 4, 2, 11, 5, 61, 2, 7, 8, 9, 10]\n",
      "\t while loop updation: i = 5, j = 3, arr = [1, 2, 3, 2, 4, 11, 5, 61, 2, 7, 8, 9, 10]\n",
      "\t while loop: i = 5, j = 3, arr = [1, 2, 3, 2, 4, 11, 5, 61, 2, 7, 8, 9, 10]\n",
      "\t while loop updation: i = 5, j = 2, arr = [1, 2, 2, 3, 4, 11, 5, 61, 2, 7, 8, 9, 10]\n",
      "for loop: i = 6, j = 6\n",
      "\t while loop: i = 6, j = 6, arr = [1, 2, 2, 3, 4, 11, 5, 61, 2, 7, 8, 9, 10]\n",
      "\t while loop updation: i = 6, j = 5, arr = [1, 2, 2, 3, 4, 5, 11, 61, 2, 7, 8, 9, 10]\n",
      "for loop: i = 7, j = 7\n",
      "for loop: i = 8, j = 8\n",
      "\t while loop: i = 8, j = 8, arr = [1, 2, 2, 3, 4, 5, 11, 61, 2, 7, 8, 9, 10]\n",
      "\t while loop updation: i = 8, j = 7, arr = [1, 2, 2, 3, 4, 5, 11, 2, 61, 7, 8, 9, 10]\n",
      "\t while loop: i = 8, j = 7, arr = [1, 2, 2, 3, 4, 5, 11, 2, 61, 7, 8, 9, 10]\n",
      "\t while loop updation: i = 8, j = 6, arr = [1, 2, 2, 3, 4, 5, 2, 11, 61, 7, 8, 9, 10]\n",
      "\t while loop: i = 8, j = 6, arr = [1, 2, 2, 3, 4, 5, 2, 11, 61, 7, 8, 9, 10]\n",
      "\t while loop updation: i = 8, j = 5, arr = [1, 2, 2, 3, 4, 2, 5, 11, 61, 7, 8, 9, 10]\n",
      "\t while loop: i = 8, j = 5, arr = [1, 2, 2, 3, 4, 2, 5, 11, 61, 7, 8, 9, 10]\n",
      "\t while loop updation: i = 8, j = 4, arr = [1, 2, 2, 3, 2, 4, 5, 11, 61, 7, 8, 9, 10]\n",
      "\t while loop: i = 8, j = 4, arr = [1, 2, 2, 3, 2, 4, 5, 11, 61, 7, 8, 9, 10]\n",
      "\t while loop updation: i = 8, j = 3, arr = [1, 2, 2, 2, 3, 4, 5, 11, 61, 7, 8, 9, 10]\n",
      "for loop: i = 9, j = 9\n",
      "\t while loop: i = 9, j = 9, arr = [1, 2, 2, 2, 3, 4, 5, 11, 61, 7, 8, 9, 10]\n",
      "\t while loop updation: i = 9, j = 8, arr = [1, 2, 2, 2, 3, 4, 5, 11, 7, 61, 8, 9, 10]\n",
      "\t while loop: i = 9, j = 8, arr = [1, 2, 2, 2, 3, 4, 5, 11, 7, 61, 8, 9, 10]\n",
      "\t while loop updation: i = 9, j = 7, arr = [1, 2, 2, 2, 3, 4, 5, 7, 11, 61, 8, 9, 10]\n",
      "for loop: i = 10, j = 10\n",
      "\t while loop: i = 10, j = 10, arr = [1, 2, 2, 2, 3, 4, 5, 7, 11, 61, 8, 9, 10]\n",
      "\t while loop updation: i = 10, j = 9, arr = [1, 2, 2, 2, 3, 4, 5, 7, 11, 8, 61, 9, 10]\n",
      "\t while loop: i = 10, j = 9, arr = [1, 2, 2, 2, 3, 4, 5, 7, 11, 8, 61, 9, 10]\n",
      "\t while loop updation: i = 10, j = 8, arr = [1, 2, 2, 2, 3, 4, 5, 7, 8, 11, 61, 9, 10]\n",
      "for loop: i = 11, j = 11\n",
      "\t while loop: i = 11, j = 11, arr = [1, 2, 2, 2, 3, 4, 5, 7, 8, 11, 61, 9, 10]\n",
      "\t while loop updation: i = 11, j = 10, arr = [1, 2, 2, 2, 3, 4, 5, 7, 8, 11, 9, 61, 10]\n",
      "\t while loop: i = 11, j = 10, arr = [1, 2, 2, 2, 3, 4, 5, 7, 8, 11, 9, 61, 10]\n",
      "\t while loop updation: i = 11, j = 9, arr = [1, 2, 2, 2, 3, 4, 5, 7, 8, 9, 11, 61, 10]\n",
      "for loop: i = 12, j = 12\n",
      "\t while loop: i = 12, j = 12, arr = [1, 2, 2, 2, 3, 4, 5, 7, 8, 9, 11, 61, 10]\n",
      "\t while loop updation: i = 12, j = 11, arr = [1, 2, 2, 2, 3, 4, 5, 7, 8, 9, 11, 10, 61]\n",
      "\t while loop: i = 12, j = 11, arr = [1, 2, 2, 2, 3, 4, 5, 7, 8, 9, 11, 10, 61]\n",
      "\t while loop updation: i = 12, j = 10, arr = [1, 2, 2, 2, 3, 4, 5, 7, 8, 9, 10, 11, 61]\n"
     ]
    },
    {
     "data": {
      "text/plain": [
       "[1, 2, 2, 2, 3, 4, 5, 7, 8, 9, 10, 11, 61]"
      ]
     },
     "execution_count": 36,
     "metadata": {},
     "output_type": "execute_result"
    }
   ],
   "source": [
    "def insertion_sort(arr):\n",
    "\n",
    "    for i in range(1, len(arr)):\n",
    "        j = i\n",
    "        print(f'for loop: i = {i}, j = {j}')\n",
    "\n",
    "        while j > 0 and arr[j] < arr[j-1]:\n",
    "            print(f\"\\t while loop: i = {i}, j = {j}, arr = {arr}\")\n",
    "            arr[j], arr[j-1] = arr[j-1], arr[j]\n",
    "            j -= 1\n",
    "            print(f\"\\t while loop updation: i = {i}, j = {j}, arr = {arr}\")\n",
    "\n",
    "    return arr\n",
    "\n",
    "insertion_sort([1, 2, 3, 4, 11, 2, 5, 61, 2, 7, 8, 9, 10])"
   ]
  },
  {
   "cell_type": "markdown",
   "metadata": {},
   "source": [
    "quicksort"
   ]
  },
  {
   "cell_type": "code",
   "execution_count": null,
   "metadata": {},
   "outputs": [],
   "source": []
  }
 ],
 "metadata": {
  "kernelspec": {
   "display_name": "Python 3",
   "language": "python",
   "name": "python3"
  },
  "language_info": {
   "codemirror_mode": {
    "name": "ipython",
    "version": 3
   },
   "file_extension": ".py",
   "mimetype": "text/x-python",
   "name": "python",
   "nbconvert_exporter": "python",
   "pygments_lexer": "ipython3",
   "version": "3.11.7"
  }
 },
 "nbformat": 4,
 "nbformat_minor": 2
}
