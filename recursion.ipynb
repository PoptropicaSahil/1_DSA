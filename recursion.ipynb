{
 "cells": [
  {
   "cell_type": "markdown",
   "metadata": {},
   "source": [
    "# factorial"
   ]
  },
  {
   "cell_type": "code",
   "execution_count": 9,
   "metadata": {},
   "outputs": [
    {
     "data": {
      "text/plain": [
       "1"
      ]
     },
     "execution_count": 9,
     "metadata": {},
     "output_type": "execute_result"
    }
   ],
   "source": [
    "# Factorial using Recursion\n",
    "def recursion(n):\n",
    "    if n == 1 or n == 0:\n",
    "        # n == 0 case only to handle 0! = 1, otherwise lite only\n",
    "        return 1\n",
    "    else: \n",
    "        return n * recursion(n-1)\n",
    "\n",
    "recursion(0)"
   ]
  },
  {
   "cell_type": "markdown",
   "metadata": {},
   "source": [
    "# string permutations"
   ]
  },
  {
   "cell_type": "code",
   "execution_count": 17,
   "metadata": {},
   "outputs": [
    {
     "name": "stdout",
     "output_type": "stream",
     "text": [
      "i = 0, str char = a\n",
      "passing to recursion = bc, perms = []\n",
      "i = 0, str char = b\n",
      "passing to recursion = c, perms = []\n",
      "reached base case: c\n",
      "rem_perms = ['c']\n",
      "updated perms = ['bc']\n",
      "i = 1, str char = c\n",
      "passing to recursion = b, perms = ['bc']\n",
      "reached base case: b\n",
      "rem_perms = ['b']\n",
      "updated perms = ['bc', 'cb']\n",
      "rem_perms = ['bc', 'cb']\n",
      "updated perms = ['abc']\n",
      "updated perms = ['abc', 'acb']\n",
      "i = 1, str char = b\n",
      "passing to recursion = ac, perms = ['abc', 'acb']\n",
      "i = 0, str char = a\n",
      "passing to recursion = c, perms = []\n",
      "reached base case: c\n",
      "rem_perms = ['c']\n",
      "updated perms = ['ac']\n",
      "i = 1, str char = c\n",
      "passing to recursion = a, perms = ['ac']\n",
      "reached base case: a\n",
      "rem_perms = ['a']\n",
      "updated perms = ['ac', 'ca']\n",
      "rem_perms = ['ac', 'ca']\n",
      "updated perms = ['abc', 'acb', 'bac']\n",
      "updated perms = ['abc', 'acb', 'bac', 'bca']\n",
      "i = 2, str char = c\n",
      "passing to recursion = ab, perms = ['abc', 'acb', 'bac', 'bca']\n",
      "i = 0, str char = a\n",
      "passing to recursion = b, perms = []\n",
      "reached base case: b\n",
      "rem_perms = ['b']\n",
      "updated perms = ['ab']\n",
      "i = 1, str char = b\n",
      "passing to recursion = a, perms = ['ab']\n",
      "reached base case: a\n",
      "rem_perms = ['a']\n",
      "updated perms = ['ab', 'ba']\n",
      "rem_perms = ['ab', 'ba']\n",
      "updated perms = ['abc', 'acb', 'bac', 'bca', 'cab']\n",
      "updated perms = ['abc', 'acb', 'bac', 'bca', 'cab', 'cba']\n"
     ]
    },
    {
     "data": {
      "text/plain": [
       "['abc', 'acb', 'bac', 'bca', 'cab', 'cba']"
      ]
     },
     "execution_count": 17,
     "metadata": {},
     "output_type": "execute_result"
    }
   ],
   "source": [
    "# permutations of a string using recursion\n",
    "def recursion(input_str):\n",
    "    if len(input_str) == 1:\n",
    "        print(f'reached base case: {input_str}')\n",
    "        return [input_str]\n",
    "    else:\n",
    "        perms = []\n",
    "        for i in range(len(input_str)):\n",
    "            print(f'i = {i}, str char = {input_str[i]}')\n",
    "\n",
    "            print(f'passing to recursion = {input_str[:i] + input_str[i+1:]}, perms = {perms}')\n",
    "            # get all permutations of the remaining characters\n",
    "            rem_perms = recursion(input_str[:i] + input_str[i+1:])\n",
    "\n",
    "            print(f'rem_perms = {rem_perms}')\n",
    "            # insert the current character in all possible positions of the remaining characters\n",
    "            for perm in rem_perms:\n",
    "                perms.append(input_str[i] + perm)\n",
    "                print(f'updated perms = {perms}')\n",
    "        return perms\n",
    "    \n",
    "recursion('abc')"
   ]
  },
  {
   "cell_type": "code",
   "execution_count": 26,
   "metadata": {},
   "outputs": [
    {
     "name": "stdout",
     "output_type": "stream",
     "text": [
      "idx is 0, char is a\n",
      "remaining chars are bc\n",
      "idx is 0, char is b\n",
      "remaining chars are c\n",
      "\t temp_results are ['c']\n",
      "idx is 1, char is c\n",
      "remaining chars are b\n",
      "\t temp_results are ['b']\n",
      "\t temp_results are ['bc', 'cb']\n",
      "idx is 1, char is b\n",
      "remaining chars are ac\n",
      "idx is 0, char is a\n",
      "remaining chars are c\n",
      "\t temp_results are ['c']\n",
      "idx is 1, char is c\n",
      "remaining chars are a\n",
      "\t temp_results are ['a']\n",
      "\t temp_results are ['ac', 'ca']\n",
      "idx is 2, char is c\n",
      "remaining chars are ab\n",
      "idx is 0, char is a\n",
      "remaining chars are b\n",
      "\t temp_results are ['b']\n",
      "idx is 1, char is b\n",
      "remaining chars are a\n",
      "\t temp_results are ['a']\n",
      "\t temp_results are ['ab', 'ba']\n"
     ]
    },
    {
     "data": {
      "text/plain": [
       "['abc', 'acb', 'bac', 'bca', 'cab', 'cba']"
      ]
     },
     "execution_count": 26,
     "metadata": {},
     "output_type": "execute_result"
    }
   ],
   "source": [
    "# recursion for permutations of strings\n",
    "def recursion_permutations(input_str):\n",
    "    if len(input_str) == 1:\n",
    "        return [input_str]\n",
    "    else:\n",
    "        temp_perms = []\n",
    "\n",
    "        for idx, char in enumerate(input_str):\n",
    "            print(f'idx is {idx}, char is {char}')\n",
    "            remaining_chars = input_str[:idx] + input_str[idx+1:]\n",
    "            print(f'remaining chars are {remaining_chars}')\n",
    "            \n",
    "            temp_results = recursion_permutations(remaining_chars)\n",
    "            print(f'\\t temp_results are {temp_results}')\n",
    "\n",
    "            for perm in temp_results:\n",
    "                temp_perms.append(char + perm)\n",
    "\n",
    "        return temp_perms\n",
    "\n",
    "            \n",
    "\n",
    "recursion_permutations('abc')"
   ]
  },
  {
   "cell_type": "markdown",
   "metadata": {},
   "source": [
    "# N queens"
   ]
  },
  {
   "cell_type": "code",
   "execution_count": 33,
   "metadata": {},
   "outputs": [
    {
     "name": "stdout",
     "output_type": "stream",
     "text": [
      "5\n",
      "6\n",
      "7\n",
      "8\n",
      "9\n"
     ]
    }
   ],
   "source": [
    "# range is like start-stop-end, but doesn't accept kwargs. Icredible only\n",
    "for i in range(5, 10):\n",
    "    print(i)"
   ]
  },
  {
   "cell_type": "code",
   "execution_count": 37,
   "metadata": {},
   "outputs": [
    {
     "name": "stdout",
     "output_type": "stream",
     "text": [
      "5\n",
      "4\n",
      "3\n",
      "2\n",
      "1\n",
      "0\n"
     ]
    }
   ],
   "source": [
    "for i in range(5, -1, -1):\n",
    "    print(i)"
   ]
  },
  {
   "cell_type": "code",
   "execution_count": 21,
   "metadata": {},
   "outputs": [],
   "source": [
    "# official solution\n",
    "def is_safe(board, row, col, n):\n",
    "    # Check this column on upper side\n",
    "    for i in range(row):\n",
    "        if board[i][col] == \"Q\":\n",
    "            return False\n",
    "\n",
    "    # Check upper diagonal on left side\n",
    "    # all upper previous rows and upper left cols\n",
    "    for i, j in zip(range(row, -1, -1), range(col, -1, -1)):\n",
    "        if board[i][j] == \"Q\":\n",
    "            return False\n",
    "\n",
    "    # Check upper diagonal on right side\n",
    "    # all upper previous rows and upper right cols\n",
    "    for i, j in zip(range(row, -1, -1), range(col, n)):\n",
    "        if board[i][j] == \"Q\":\n",
    "            return False\n",
    "\n",
    "    return True\n",
    "\n",
    "\n",
    "def solve_n_queens_util(board, row, n, solutions):\n",
    "    # Base case: If all queens are placed\n",
    "    if row >= n:\n",
    "        # Add the current solution to the list of solutions\n",
    "        solutions.append([\"\".join(row) for row in board])\n",
    "        return\n",
    "\n",
    "    # Consider this row and try placing the queen in all columns one by one\n",
    "    for col in range(n):\n",
    "        if is_safe(board, row, col, n):\n",
    "            # Place the queen\n",
    "            board[row][col] = \"Q\"\n",
    "\n",
    "            # Recur to place the rest of the queens\n",
    "            solve_n_queens_util(board, row + 1, n, solutions)\n",
    "\n",
    "            # If placing queen in the current position doesn't lead to a solution,\n",
    "            # then backtrack: remove the queen\n",
    "            board[row][col] = \".\"\n",
    "\n",
    "\n",
    "def solve_n_queens(n):\n",
    "    # Initialize the chessboard with empty spaces ('.')\n",
    "    board = [[\".\" for _ in range(n)] for _ in range(n)]\n",
    "    print(f'board = {board}')\n",
    "    print('*' * 50)\n",
    "\n",
    "    # List to store all solutions\n",
    "    solutions = []\n",
    "\n",
    "    # Solve the N-Queens problem\n",
    "    solve_n_queens_util(board=board, row=0, n=n, solutions = solutions)\n",
    "\n",
    "    return solutions\n",
    "\n"
   ]
  },
  {
   "cell_type": "code",
   "execution_count": 38,
   "metadata": {},
   "outputs": [
    {
     "name": "stdout",
     "output_type": "stream",
     "text": [
      "board = [['.', '.', '.', '.'], ['.', '.', '.', '.'], ['.', '.', '.', '.'], ['.', '.', '.', '.']]\n",
      "**************************************************\n",
      "[['.Q..', '...Q', 'Q...', '..Q.'], ['..Q.', 'Q...', '...Q', '.Q..']]\n",
      "**************************************************\n",
      "board = [['.', '.', '.', '.'], ['.', '.', '.', '.'], ['.', '.', '.', '.'], ['.', '.', '.', '.']]\n",
      "**************************************************\n",
      "\n",
      "idx = 0\n",
      ".Q..\n",
      "...Q\n",
      "Q...\n",
      "..Q.\n",
      "\n",
      "idx = 1\n",
      "..Q.\n",
      "Q...\n",
      "...Q\n",
      ".Q..\n"
     ]
    }
   ],
   "source": [
    "n = 4\n",
    "print(solve_n_queens(n))\n",
    "print('*' * 50)\n",
    "for idx, soln in enumerate(solve_n_queens(n)):\n",
    "    print(f'\\nidx = {idx}')\n",
    "    for row in soln:\n",
    "        print(row)"
   ]
  },
  {
   "cell_type": "code",
   "execution_count": 75,
   "metadata": {},
   "outputs": [
    {
     "name": "stdout",
     "output_type": "stream",
     "text": [
      "board = [['.', '.', '.', '.'], ['.', '.', '.', '.'], ['.', '.', '.', '.'], ['.', '.', '.', '.']]\n",
      "all_sols nitiallay = []\n",
      "reached base condition, board = [['.', 'Q', '.', '.'], ['.', '.', '.', 'Q'], ['Q', '.', '.', '.'], ['.', '.', 'Q', '.']], all_sols = [[['.', 'Q', '.', '.'], ['.', '.', '.', 'Q'], ['Q', '.', '.', '.'], ['.', '.', 'Q', '.']]]\n",
      "reached base condition, board = [['.', '.', 'Q', '.'], ['Q', '.', '.', '.'], ['.', '.', '.', 'Q'], ['.', 'Q', '.', '.']], all_sols = [[['.', 'Q', '.', '.'], ['.', '.', '.', 'Q'], ['Q', '.', '.', '.'], ['.', '.', 'Q', '.']], [['.', '.', 'Q', '.'], ['Q', '.', '.', '.'], ['.', '.', '.', 'Q'], ['.', 'Q', '.', '.']]]\n",
      "['.', 'Q', '.', '.']\n",
      "['.', '.', '.', 'Q']\n",
      "['Q', '.', '.', '.']\n",
      "['.', '.', 'Q', '.']\n",
      "\n",
      "['.', '.', 'Q', '.']\n",
      "['Q', '.', '.', '.']\n",
      "['.', '.', '.', 'Q']\n",
      "['.', 'Q', '.', '.']\n",
      "\n"
     ]
    }
   ],
   "source": [
    "# my solution\n",
    "import copy\n",
    "\n",
    "# say n = 4\n",
    "n = 4\n",
    "board = [[\".\" for _ in range(n)] for _ in range(n)]\n",
    "print(f'board = {board}')\n",
    "\n",
    "all_sols = []\n",
    "print(f'all_sols nitiallay = {all_sols}')\n",
    "\n",
    "\n",
    "def is_safe(board, row, col, n):\n",
    "    # check if queen in col\n",
    "    for i in range(row):\n",
    "        if board[i][col] == 'Q':\n",
    "            return False\n",
    "\n",
    "    # check if queen in top left diag\n",
    "    for i, j in zip(range(row, -1, -1), range(col, -1, -1)):\n",
    "        if board[i][j] == 'Q':\n",
    "            return False\n",
    "        \n",
    "    # check if queen in top right diag\n",
    "    for i, j in zip(range(row, -1, -1), range(col, n)):\n",
    "        if board[i][j] == 'Q':\n",
    "            return False\n",
    "    \n",
    "    return True\n",
    "\n",
    "\n",
    "def solve_n_queens(board, row, n):\n",
    "    \n",
    "    # start with rows\n",
    "    # base condition: if cur_row == n - 1\n",
    "    # return final solution (ongoing list of solutions)\n",
    "    if row == n:\n",
    "        board_this = copy.deepcopy(board)\n",
    "        all_sols.append(board_this)\n",
    "        print(f'reached base condition, board = {board}, all_sols = {all_sols}')\n",
    "        return\n",
    "\n",
    "    # for cols\n",
    "    for cur_col in range(n):\n",
    "        if is_safe(board, row, cur_col, n):\n",
    "            board[row][cur_col] = 'Q'\n",
    "\n",
    "            # then move onto solving for next row\n",
    "            solve_n_queens(board, row + 1, n)\n",
    "\n",
    "            # if solve queens sometime later doesn't work,  is safe for some inner loop will go false, \n",
    "            # and hence we remove the queen from the outer (Current) loop \n",
    "\n",
    "            # if solve queens for inner loops keeps working, we will hit the base condition and would have solved for this position in that call\n",
    "            # Even if the recursive call finds a valid solution for the current configuration, the queen must be removed to explore other configurations and find all possible solutions.\n",
    "\n",
    "            # resetting the board state after each recursive attempt.\n",
    "            # all valid solutions are found and that the algorithm doesn’t miss any possible configurations by prematurely committing to one specific board setup.\n",
    "\n",
    "            board[row][cur_col] = '.'\n",
    "\n",
    "\n",
    "solve_n_queens(board = board, row = 0, n = n) \n",
    "\n",
    "for sol in all_sols:\n",
    "    for row in sol:\n",
    "        print(row)\n",
    "    print()\n"
   ]
  },
  {
   "cell_type": "code",
   "execution_count": 59,
   "metadata": {},
   "outputs": [],
   "source": [
    "board = [\n",
    "    [\".\", \".\", \".\", \".\"],\n",
    "    [\".\", \".\", \".\", \".\"],\n",
    "    [\".\", \".\", \".\", \".\"],\n",
    "    [\".\", \".\", \".\", \".\"],\n",
    "]\n"
   ]
  },
  {
   "cell_type": "code",
   "execution_count": 48,
   "metadata": {},
   "outputs": [
    {
     "ename": "TypeError",
     "evalue": "list indices must be integers or slices, not tuple",
     "output_type": "error",
     "traceback": [
      "\u001b[1;31m---------------------------------------------------------------------------\u001b[0m",
      "\u001b[1;31mTypeError\u001b[0m                                 Traceback (most recent call last)",
      "Cell \u001b[1;32mIn[48], line 1\u001b[0m\n\u001b[1;32m----> 1\u001b[0m \u001b[43mboard\u001b[49m\u001b[43m[\u001b[49m\u001b[43m:\u001b[49m\u001b[43m,\u001b[49m\u001b[43m \u001b[49m\u001b[38;5;241;43m-\u001b[39;49m\u001b[38;5;241;43m1\u001b[39;49m\u001b[43m]\u001b[49m\n",
      "\u001b[1;31mTypeError\u001b[0m: list indices must be integers or slices, not tuple"
     ]
    }
   ],
   "source": [
    "# board[:, -1] works only with numpy arrays"
   ]
  },
  {
   "cell_type": "code",
   "execution_count": null,
   "metadata": {},
   "outputs": [],
   "source": []
  }
 ],
 "metadata": {
  "kernelspec": {
   "display_name": "Python 3",
   "language": "python",
   "name": "python3"
  },
  "language_info": {
   "codemirror_mode": {
    "name": "ipython",
    "version": 3
   },
   "file_extension": ".py",
   "mimetype": "text/x-python",
   "name": "python",
   "nbconvert_exporter": "python",
   "pygments_lexer": "ipython3",
   "version": "3.11.7"
  }
 },
 "nbformat": 4,
 "nbformat_minor": 2
}
