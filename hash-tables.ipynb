{
 "cells": [
  {
   "cell_type": "code",
   "execution_count": 3,
   "metadata": {},
   "outputs": [],
   "source": [
    "from typing import List"
   ]
  },
  {
   "cell_type": "code",
   "execution_count": 4,
   "metadata": {},
   "outputs": [
    {
     "data": {
      "text/plain": [
       "False"
      ]
     },
     "execution_count": 4,
     "metadata": {},
     "output_type": "execute_result"
    }
   ],
   "source": [
    "# 217 Contains duplicate\n",
    "\n",
    "class Solution:\n",
    "    def containsDuplicate(self, nums: List[int]) -> bool:\n",
    "        count_dict = {}\n",
    "        for num in nums:\n",
    "            if num in count_dict:\n",
    "                return True\n",
    "            else:\n",
    "                count_dict[num] = 1\n",
    "        return False\n",
    "\n",
    "Solution().containsDuplicate([1,2,3,4,5])    "
   ]
  },
  {
   "cell_type": "code",
   "execution_count": 6,
   "metadata": {},
   "outputs": [
    {
     "data": {
      "text/plain": [
       "True"
      ]
     },
     "execution_count": 6,
     "metadata": {},
     "output_type": "execute_result"
    }
   ],
   "source": [
    "# 242 Valid Anagram\n",
    "\n",
    "class Solution:\n",
    "    def isAnagram(self, s: str, t: str) -> bool:\n",
    "        if sorted(s) == sorted(t):\n",
    "            return True\n",
    "        return False\n",
    "    \n",
    "Solution().isAnagram(\"anagramd\", \"nagardam\")"
   ]
  },
  {
   "cell_type": "code",
   "execution_count": 8,
   "metadata": {},
   "outputs": [
    {
     "data": {
      "text/plain": [
       "False"
      ]
     },
     "execution_count": 8,
     "metadata": {},
     "output_type": "execute_result"
    }
   ],
   "source": [
    "# 242 Valid Anagram\n",
    "from collections import Counter\n",
    "\n",
    "class Solution:\n",
    "    def isAnagram(self, s: str, t: str) -> bool:\n",
    "        \n",
    "        return Counter(s) == Counter(t) \n",
    "\n",
    "\n",
    "    \n",
    "Solution().isAnagram(\"anagrsssamd\", \"nagardam\")"
   ]
  },
  {
   "cell_type": "code",
   "execution_count": 12,
   "metadata": {},
   "outputs": [
    {
     "data": {
      "text/plain": [
       "[0, 1]"
      ]
     },
     "execution_count": 12,
     "metadata": {},
     "output_type": "execute_result"
    }
   ],
   "source": [
    "# Two Sum\n",
    "class Solution:\n",
    "    def twoSum(self, nums: List[int], target: int) -> List[int]:\n",
    "        # for i in range(len(nums)):\n",
    "        #     for j in range(i+1, len(nums)):\n",
    "        #         if nums[i] + nums[j] == target:\n",
    "        #             return [i, j]\n",
    "\n",
    "        sums_dict = {}        \n",
    "        for idx, num in enumerate(nums):\n",
    "            if target - num in sums_dict:\n",
    "                return [sums_dict[target - num], idx]\n",
    "            sums_dict[num] = idx\n",
    "\n",
    "\n",
    "        return [-1,-1]\n",
    "    \n",
    "Solution().twoSum([2,7,11,15], 9)"
   ]
  },
  {
   "cell_type": "code",
   "execution_count": 14,
   "metadata": {},
   "outputs": [
    {
     "data": {
      "text/plain": [
       "True"
      ]
     },
     "execution_count": 14,
     "metadata": {},
     "output_type": "execute_result"
    }
   ],
   "source": [
    "# valid palindrome\n",
    "\n",
    "class Solution:\n",
    "    def isPalindrome(self, s: str) -> bool:\n",
    "        # s = ''.join(c.lower() for c in s if c.isalnum())\n",
    "        # return s == s[::-1]\n",
    "\n",
    "        left, right = 0, len(s) - 1\n",
    "        while left < right:\n",
    "            if not s[left].isalnum():\n",
    "                left += 1\n",
    "            elif not s[right].isalnum():\n",
    "                right -= 1\n",
    "            elif s[left].lower() == s[right].lower():\n",
    "                left, right = left + 1, right - 1\n",
    "            else:\n",
    "                return False\n",
    "        return True\n",
    "\n",
    "\n",
    "Solution().isPalindrome(\"A man, a plan, a canal: Panama\")"
   ]
  },
  {
   "cell_type": "code",
   "execution_count": null,
   "metadata": {},
   "outputs": [],
   "source": [
    "#  two sum II\n",
    "class Solution:\n",
    "    def twoSum(self, numbers: List[int], target: int) -> List[int]:\n",
    "        left, right = 0, len(numbers) - 1\n",
    "        while left < right:\n",
    "            cur_sum = numbers[left] + numbers[right]\n",
    "            if cur_sum > target:\n",
    "                right -= 1\n",
    "            elif cur_sum < target:\n",
    "                left += 1\n",
    "            else:\n",
    "                return [left + 1, right + 1]\n",
    "        return [-1, -1]"
   ]
  },
  {
   "cell_type": "code",
   "execution_count": null,
   "metadata": {},
   "outputs": [],
   "source": [
    "#  3Sum\n",
    "class Solution:\n",
    "    def threeSum(self, nums: List[int]) -> List[List[int]]:\n",
    "        res = []\n",
    "        nums.sort()\n",
    "        for i, a in enumerate(nums):\n",
    "            if i > 0 and a == nums[i - 1]:\n",
    "                continue\n",
    "            l, r = i + 1, len(nums) - 1\n",
    "            while l < r:\n",
    "                threeSum = a + nums[l] + nums[r]\n",
    "                if threeSum > 0:\n",
    "                    r -= 1\n",
    "                elif threeSum < 0:\n",
    "                    l += 1\n",
    "                else:\n",
    "                    res.append([a, nums[l], nums[r]])\n",
    "\n",
    "                    # question says no duplicates\n",
    "                    # we anyways move l += 1 for searching for next solution\n",
    "                    l += 1\n",
    "                    # but we keep moving l forward if a same number occurs\n",
    "                    while nums[l] == nums[l - 1] and l < r:\n",
    "                        l += 1\n",
    "        return res"
   ]
  },
  {
   "cell_type": "code",
   "execution_count": null,
   "metadata": {},
   "outputs": [],
   "source": [
    "# largest consecutive sequence\n",
    "class Solution:\n",
    "    def longestConsecutive(self, nums: List[int]) -> int:\n",
    "        num_set = set(nums)\n",
    "        longest = 0\n",
    "\n",
    "        for num in nums:\n",
    "            # check if its the start of a sequence \n",
    "            # i.e. if n-1 is present then we skip this num\n",
    "            if (num - 1) not in num_set:\n",
    "                next_num = num + 1\n",
    "\n",
    "                while (next_num) in num_set:\n",
    "                    next_num += 1\n",
    "\n",
    "                longest = max(next_num - num, longest)\n",
    "        return longest"
   ]
  },
  {
   "cell_type": "code",
   "execution_count": null,
   "metadata": {},
   "outputs": [],
   "source": [
    "# product of array except self\n",
    "class Solution:\n",
    "    def productExceptSelf(self, nums: List[int]) -> List[int]:\n",
    "        res = [1] * len(nums)\n",
    "        prefix = 1\n",
    "        for i in range(len(nums)):\n",
    "            res[i] = prefix\n",
    "            prefix *= nums[i]\n",
    "        postfix = 1\n",
    "        for i in range(len(nums) - 1, -1, -1):\n",
    "            res[i] *= postfix\n",
    "            postfix *= nums[i]\n",
    "        return res"
   ]
  }
 ],
 "metadata": {
  "kernelspec": {
   "display_name": "Python 3",
   "language": "python",
   "name": "python3"
  },
  "language_info": {
   "codemirror_mode": {
    "name": "ipython",
    "version": 3
   },
   "file_extension": ".py",
   "mimetype": "text/x-python",
   "name": "python",
   "nbconvert_exporter": "python",
   "pygments_lexer": "ipython3",
   "version": "3.11.7"
  }
 },
 "nbformat": 4,
 "nbformat_minor": 2
}
