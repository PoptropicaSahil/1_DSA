{
 "cells": [
  {
   "cell_type": "code",
   "execution_count": 1,
   "metadata": {},
   "outputs": [],
   "source": [
    "from typing import List"
   ]
  },
  {
   "cell_type": "code",
   "execution_count": null,
   "metadata": {},
   "outputs": [],
   "source": [
    "\"\"\"\n",
    "Given an integer array nums of unique elements, return all possible \n",
    "subsets (the power set).\n",
    "\n",
    "The solution set must not contain duplicate subsets. Return the solution in any order.\n",
    "\n",
    "\n",
    "Example 1:\n",
    "\n",
    "Input: nums = [1,2,3]\n",
    "Output: [[],[1],[2],[1,2],[3],[1,3],[2,3],[1,2,3]]\n",
    "Example 2:\n",
    "\n",
    "Input: nums = [0]\n",
    "Output: [[],[0]]\n",
    "\"\"\"\n",
    "\n",
    "\n",
    "class Solution:\n",
    "    def subsets(self, nums: List[int]) -> List[List[int]]:\n",
    "\n",
    "        res = []\n",
    "\n",
    "        def backtrack(init, subset_rem):\n",
    "            print(f'--- init = {init}, subset_rem = {subset_rem}, res = {res}')\n",
    "\n",
    "            if len(subset_rem) == 0:\n",
    "                res.append(init)\n",
    "                return \n",
    "            \n",
    "            if subset_rem:\n",
    "                # element = subset_rem.pop()\n",
    "                element = subset_rem[0]\n",
    "            else:\n",
    "                element = None\n",
    "            # element = subset_rem.pop()\n",
    "            \n",
    "            backtrack(init = init + [element], subset_rem = subset_rem)\n",
    "            backtrack(init = init, subset_rem = subset_rem)\n",
    "\n",
    "        backtrack(init = [], subset_rem = nums)\n",
    "\n",
    "        return res\n",
    "    \n",
    "Solution().subsets([1,2,3])"
   ]
  },
  {
   "cell_type": "code",
   "execution_count": 8,
   "metadata": {},
   "outputs": [
    {
     "name": "stdout",
     "output_type": "stream",
     "text": [
      "--- init = [], subset_rem = [1, 2, 3], res = []\n",
      "--- init = [1], subset_rem = [2, 3], res = [[]]\n",
      "--- init = [1, 2], subset_rem = [3], res = [[], [1]]\n",
      "--- init = [1, 2, 3], subset_rem = [], res = [[], [1], [1, 2]]\n",
      "--- init = [1, 3], subset_rem = [], res = [[], [1], [1, 2], [1, 2, 3]]\n",
      "--- init = [2], subset_rem = [3], res = [[], [1], [1, 2], [1, 2, 3], [1, 3]]\n",
      "--- init = [2, 3], subset_rem = [], res = [[], [1], [1, 2], [1, 2, 3], [1, 3], [2]]\n",
      "--- init = [3], subset_rem = [], res = [[], [1], [1, 2], [1, 2, 3], [1, 3], [2], [2, 3]]\n",
      "[[], [1], [1, 2], [1, 2, 3], [1, 3], [2], [2, 3], [3]]\n"
     ]
    }
   ],
   "source": [
    "class Solution:\n",
    "    def subsets(self, nums: List[int]) -> List[List[int]]:\n",
    "        res = []\n",
    "\n",
    "        def backtrack(init, subset_rem):\n",
    "            print(f\"--- init = {init}, subset_rem = {subset_rem}, res = {res}\")\n",
    "\n",
    "            # Add the current subset to the result\n",
    "            res.append(init)\n",
    "\n",
    "            # Iterate through the remaining elements\n",
    "            for i in range(len(subset_rem)):\n",
    "                # Choose the next element and backtrack on the remaining\n",
    "                backtrack(init + [subset_rem[i]], subset_rem[i + 1 :])\n",
    "\n",
    "        backtrack([], nums)\n",
    "        return res\n",
    "\n",
    "\n",
    "# Example usage\n",
    "print(Solution().subsets([1, 2, 3]))\n"
   ]
  },
  {
   "cell_type": "code",
   "execution_count": null,
   "metadata": {},
   "outputs": [],
   "source": []
  }
 ],
 "metadata": {
  "kernelspec": {
   "display_name": "Python 3",
   "language": "python",
   "name": "python3"
  },
  "language_info": {
   "codemirror_mode": {
    "name": "ipython",
    "version": 3
   },
   "file_extension": ".py",
   "mimetype": "text/x-python",
   "name": "python",
   "nbconvert_exporter": "python",
   "pygments_lexer": "ipython3",
   "version": "3.11.7"
  }
 },
 "nbformat": 4,
 "nbformat_minor": 2
}
